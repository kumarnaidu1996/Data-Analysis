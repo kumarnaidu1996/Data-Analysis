{
 "cells": [
  {
   "cell_type": "markdown",
   "metadata": {},
   "source": [
    "# Numpy "
   ]
  },
  {
   "cell_type": "markdown",
   "metadata": {},
   "source": [
    "# Name: Kumar R."
   ]
  },
  {
   "cell_type": "markdown",
   "metadata": {},
   "source": [
    "Write a function so that the columns of the output matrix are powers of the input\n",
    "vector.\n",
    "The order of the powers is determined by the increasing boolean argument. Specifically, when\n",
    "increasing is False, the i-th output column is the input vector raised element-wise to the power\n",
    "of N - i - 1."
   ]
  },
  {
   "cell_type": "code",
   "execution_count": 1,
   "metadata": {},
   "outputs": [],
   "source": [
    "import numpy as np #importing the numpy"
   ]
  },
  {
   "cell_type": "code",
   "execution_count": 2,
   "metadata": {},
   "outputs": [],
   "source": [
    "#defining a function named vander_matrix\n",
    "def vander_matrix(ipvector, column, increasing=True): \n",
    "    if not increasing:\n",
    "        matrix_out = np.array([x**(column-i-1) for x in ipvector for i in range(column)]).reshape(ipvector.size, column)\n",
    "    else:\n",
    "        matrix_out = np.array([x**i for x in ipvector for i in range(column)]).reshape(ipvector.size, column)\n",
    "    return matrix_out\n"
   ]
  },
  {
   "cell_type": "code",
   "execution_count": 3,
   "metadata": {},
   "outputs": [
    {
     "name": "stdout",
     "output_type": "stream",
     "text": [
      "Input values:\n",
      "Input array vector:  [1 2 3 4 5] \n",
      "\n",
      "Number of columns in the output matrix:  3\n",
      "------------------------------ \n",
      "\n",
      "Output:\n",
      "The vander matrix of the input array vector in increasing order is:  \n",
      " [[ 1  1  1]\n",
      " [ 1  2  4]\n",
      " [ 1  3  9]\n",
      " [ 1  4 16]\n",
      " [ 1  5 25]]\n",
      "\n",
      "The vander matrix of the input array vector in decreasing order is: \n",
      " [[ 1  1  1]\n",
      " [ 4  2  1]\n",
      " [ 9  3  1]\n",
      " [16  4  1]\n",
      " [25  5  1]]\n"
     ]
    }
   ],
   "source": [
    "ipvect = np.array([1,2,3,4,5])\n",
    "columns = 3\n",
    "output_increase = vander_matrix(ipvect,columns, True) #creating a matrix in increasing order.\n",
    "output_decrease = vander_matrix(ipvect, columns, False) #creating a matrix in decreasing order.\n",
    "print(\"Input values:\") #printing the input values\n",
    "print(\"Input array vector: \",ipvect,\"\\n\")\n",
    "print(\"Number of columns in the output matrix: \",columns)\n",
    "\n",
    "print(\"-\"*30,\"\\n\")\n",
    "print(\"Output:\") #Printing the outut values\n",
    "print(\"The vander matrix of the input array vector in increasing order is:  \\n\",output_increase)\n",
    "print()\n",
    "print(\"The vander matrix of the input array vector in decreasing order is: \\n\", output_decrease)"
   ]
  },
  {
   "cell_type": "markdown",
   "metadata": {},
   "source": [
    "Writing a function to find moving average in an array over a window 3."
   ]
  },
  {
   "cell_type": "code",
   "execution_count": 4,
   "metadata": {},
   "outputs": [],
   "source": [
    "#defining a function to find the moving average of an array.\n",
    "def moving_average(array, k=3) :\n",
    "    avg = np.cumsum(array, dtype=float)\n",
    "    avg[k:] = avg[k:] - avg[:-k]\n",
    "    return avg[k - 1:] / k"
   ]
  },
  {
   "cell_type": "code",
   "execution_count": 5,
   "metadata": {},
   "outputs": [
    {
     "name": "stdout",
     "output_type": "stream",
     "text": [
      "Input array vector is:  [3, 5, 7, 2, 8, 10, 11, 65, 72, 81, 99, 100, 150] \n",
      "\n",
      "Moving average:  [  5.           4.66666667   5.66666667   6.66666667   9.66666667\n",
      "  28.66666667  49.33333333  72.66666667  84.          93.33333333\n",
      " 116.33333333]\n"
     ]
    }
   ],
   "source": [
    "ar = [3, 5, 7, 2, 8, 10, 11, 65, 72, 81, 99, 100, 150]\n",
    "out = moving_average(ar)\n",
    "\n",
    "print('Input array vector is: ',ar,\"\\n\")\n",
    "\n",
    "print(\"Moving average: \",out)"
   ]
  },
  {
   "cell_type": "code",
   "execution_count": null,
   "metadata": {},
   "outputs": [],
   "source": []
  }
 ],
 "metadata": {
  "kernelspec": {
   "display_name": "Python 3",
   "language": "python",
   "name": "python3"
  },
  "language_info": {
   "codemirror_mode": {
    "name": "ipython",
    "version": 3
   },
   "file_extension": ".py",
   "mimetype": "text/x-python",
   "name": "python",
   "nbconvert_exporter": "python",
   "pygments_lexer": "ipython3",
   "version": "3.8.3"
  }
 },
 "nbformat": 4,
 "nbformat_minor": 4
}
