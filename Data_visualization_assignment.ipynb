{
 "cells": [
  {
   "cell_type": "markdown",
   "metadata": {},
   "source": [
    "# Assignment_8: Data Visualization"
   ]
  },
  {
   "cell_type": "markdown",
   "metadata": {},
   "source": [
    "# Name: Kumar R."
   ]
  },
  {
   "cell_type": "markdown",
   "metadata": {},
   "source": [
    "In this assignment we are going to transform iris data into 3 dimensions\n",
    "and plot a 3d chart with transformed dimensions and colour each data\n",
    "point with specific class."
   ]
  },
  {
   "cell_type": "code",
   "execution_count": 1,
   "metadata": {},
   "outputs": [],
   "source": [
    "# Importing the necessory visualization packages.\n",
    "import numpy as np\n",
    "import pandas as pd\n",
    "import seaborn as sns\n",
    "import matplotlib.pyplot as plt\n",
    "%matplotlib inline"
   ]
  },
  {
   "cell_type": "code",
   "execution_count": 2,
   "metadata": {},
   "outputs": [],
   "source": [
    "from plotly.offline import iplot\n",
    "import plotly as py\n",
    "import plotly.tools as tls"
   ]
  },
  {
   "cell_type": "code",
   "execution_count": 3,
   "metadata": {},
   "outputs": [],
   "source": [
    "import cufflinks as cf"
   ]
  },
  {
   "cell_type": "code",
   "execution_count": 4,
   "metadata": {},
   "outputs": [
    {
     "data": {
      "text/html": [
       "        <script type=\"text/javascript\">\n",
       "        window.PlotlyConfig = {MathJaxConfig: 'local'};\n",
       "        if (window.MathJax) {MathJax.Hub.Config({SVG: {font: \"STIX-Web\"}});}\n",
       "        if (typeof require !== 'undefined') {\n",
       "        require.undef(\"plotly\");\n",
       "        requirejs.config({\n",
       "            paths: {\n",
       "                'plotly': ['https://cdn.plot.ly/plotly-latest.min']\n",
       "            }\n",
       "        });\n",
       "        require(['plotly'], function(Plotly) {\n",
       "            window._Plotly = Plotly;\n",
       "        });\n",
       "        }\n",
       "        </script>\n",
       "        "
      ]
     },
     "metadata": {},
     "output_type": "display_data"
    }
   ],
   "source": [
    "cf.go_offline()\n",
    "cf.set_config_file(theme='polar')"
   ]
  },
  {
   "cell_type": "code",
   "execution_count": 5,
   "metadata": {
    "scrolled": true
   },
   "outputs": [
    {
     "data": {
      "text/html": [
       "<div>\n",
       "<style scoped>\n",
       "    .dataframe tbody tr th:only-of-type {\n",
       "        vertical-align: middle;\n",
       "    }\n",
       "\n",
       "    .dataframe tbody tr th {\n",
       "        vertical-align: top;\n",
       "    }\n",
       "\n",
       "    .dataframe thead th {\n",
       "        text-align: right;\n",
       "    }\n",
       "</style>\n",
       "<table border=\"1\" class=\"dataframe\">\n",
       "  <thead>\n",
       "    <tr style=\"text-align: right;\">\n",
       "      <th></th>\n",
       "      <th>sepal_length</th>\n",
       "      <th>sepal_width</th>\n",
       "      <th>petal_length</th>\n",
       "      <th>petal_width</th>\n",
       "      <th>species</th>\n",
       "    </tr>\n",
       "  </thead>\n",
       "  <tbody>\n",
       "    <tr>\n",
       "      <th>0</th>\n",
       "      <td>5.1</td>\n",
       "      <td>3.5</td>\n",
       "      <td>1.4</td>\n",
       "      <td>0.2</td>\n",
       "      <td>setosa</td>\n",
       "    </tr>\n",
       "    <tr>\n",
       "      <th>1</th>\n",
       "      <td>4.9</td>\n",
       "      <td>3.0</td>\n",
       "      <td>1.4</td>\n",
       "      <td>0.2</td>\n",
       "      <td>setosa</td>\n",
       "    </tr>\n",
       "    <tr>\n",
       "      <th>2</th>\n",
       "      <td>4.7</td>\n",
       "      <td>3.2</td>\n",
       "      <td>1.3</td>\n",
       "      <td>0.2</td>\n",
       "      <td>setosa</td>\n",
       "    </tr>\n",
       "    <tr>\n",
       "      <th>3</th>\n",
       "      <td>4.6</td>\n",
       "      <td>3.1</td>\n",
       "      <td>1.5</td>\n",
       "      <td>0.2</td>\n",
       "      <td>setosa</td>\n",
       "    </tr>\n",
       "    <tr>\n",
       "      <th>4</th>\n",
       "      <td>5.0</td>\n",
       "      <td>3.6</td>\n",
       "      <td>1.4</td>\n",
       "      <td>0.2</td>\n",
       "      <td>setosa</td>\n",
       "    </tr>\n",
       "  </tbody>\n",
       "</table>\n",
       "</div>"
      ],
      "text/plain": [
       "   sepal_length  sepal_width  petal_length  petal_width species\n",
       "0           5.1          3.5           1.4          0.2  setosa\n",
       "1           4.9          3.0           1.4          0.2  setosa\n",
       "2           4.7          3.2           1.3          0.2  setosa\n",
       "3           4.6          3.1           1.5          0.2  setosa\n",
       "4           5.0          3.6           1.4          0.2  setosa"
      ]
     },
     "execution_count": 5,
     "metadata": {},
     "output_type": "execute_result"
    }
   ],
   "source": [
    "#Load the IRIS dataset\n",
    "df = sns.load_dataset('iris')\n",
    "df.head()"
   ]
  },
  {
   "cell_type": "code",
   "execution_count": 6,
   "metadata": {},
   "outputs": [],
   "source": [
    "#Seperating the feature and label to perform Dimensionality reduction on features\n",
    "feature = df.iloc[:,:-1].values\n",
    "label = df.iloc[:,-1].values"
   ]
  },
  {
   "cell_type": "code",
   "execution_count": 7,
   "metadata": {},
   "outputs": [],
   "source": [
    "#Importing PCA from sklearn.\n",
    "from sklearn.decomposition import PCA\n",
    "pca = PCA(n_components=3) #Reducing the features into 3.\n",
    "principalfeatures = pca.fit_transform(feature) #Performing fit and transform on the features\n",
    "\n",
    "pcadata = pd.DataFrame(data = principalfeatures , columns=['PCA-1','PCA-2','PCA-3']) #creating a dataframe\n"
   ]
  },
  {
   "cell_type": "code",
   "execution_count": 8,
   "metadata": {},
   "outputs": [
    {
     "data": {
      "text/html": [
       "<div>\n",
       "<style scoped>\n",
       "    .dataframe tbody tr th:only-of-type {\n",
       "        vertical-align: middle;\n",
       "    }\n",
       "\n",
       "    .dataframe tbody tr th {\n",
       "        vertical-align: top;\n",
       "    }\n",
       "\n",
       "    .dataframe thead th {\n",
       "        text-align: right;\n",
       "    }\n",
       "</style>\n",
       "<table border=\"1\" class=\"dataframe\">\n",
       "  <thead>\n",
       "    <tr style=\"text-align: right;\">\n",
       "      <th></th>\n",
       "      <th>PCA-1</th>\n",
       "      <th>PCA-2</th>\n",
       "      <th>PCA-3</th>\n",
       "    </tr>\n",
       "  </thead>\n",
       "  <tbody>\n",
       "    <tr>\n",
       "      <th>0</th>\n",
       "      <td>-2.684126</td>\n",
       "      <td>0.319397</td>\n",
       "      <td>-0.027915</td>\n",
       "    </tr>\n",
       "    <tr>\n",
       "      <th>1</th>\n",
       "      <td>-2.714142</td>\n",
       "      <td>-0.177001</td>\n",
       "      <td>-0.210464</td>\n",
       "    </tr>\n",
       "    <tr>\n",
       "      <th>2</th>\n",
       "      <td>-2.888991</td>\n",
       "      <td>-0.144949</td>\n",
       "      <td>0.017900</td>\n",
       "    </tr>\n",
       "    <tr>\n",
       "      <th>3</th>\n",
       "      <td>-2.745343</td>\n",
       "      <td>-0.318299</td>\n",
       "      <td>0.031559</td>\n",
       "    </tr>\n",
       "    <tr>\n",
       "      <th>4</th>\n",
       "      <td>-2.728717</td>\n",
       "      <td>0.326755</td>\n",
       "      <td>0.090079</td>\n",
       "    </tr>\n",
       "  </tbody>\n",
       "</table>\n",
       "</div>"
      ],
      "text/plain": [
       "      PCA-1     PCA-2     PCA-3\n",
       "0 -2.684126  0.319397 -0.027915\n",
       "1 -2.714142 -0.177001 -0.210464\n",
       "2 -2.888991 -0.144949  0.017900\n",
       "3 -2.745343 -0.318299  0.031559\n",
       "4 -2.728717  0.326755  0.090079"
      ]
     },
     "execution_count": 8,
     "metadata": {},
     "output_type": "execute_result"
    }
   ],
   "source": [
    "pcadata.head()"
   ]
  },
  {
   "cell_type": "code",
   "execution_count": 9,
   "metadata": {
    "scrolled": false
   },
   "outputs": [
    {
     "data": {
      "text/html": [
       "<div>\n",
       "<style scoped>\n",
       "    .dataframe tbody tr th:only-of-type {\n",
       "        vertical-align: middle;\n",
       "    }\n",
       "\n",
       "    .dataframe tbody tr th {\n",
       "        vertical-align: top;\n",
       "    }\n",
       "\n",
       "    .dataframe thead th {\n",
       "        text-align: right;\n",
       "    }\n",
       "</style>\n",
       "<table border=\"1\" class=\"dataframe\">\n",
       "  <thead>\n",
       "    <tr style=\"text-align: right;\">\n",
       "      <th></th>\n",
       "      <th>PCA-1</th>\n",
       "      <th>PCA-2</th>\n",
       "      <th>PCA-3</th>\n",
       "      <th>species</th>\n",
       "    </tr>\n",
       "  </thead>\n",
       "  <tbody>\n",
       "    <tr>\n",
       "      <th>0</th>\n",
       "      <td>-2.684126</td>\n",
       "      <td>0.319397</td>\n",
       "      <td>-0.027915</td>\n",
       "      <td>setosa</td>\n",
       "    </tr>\n",
       "    <tr>\n",
       "      <th>1</th>\n",
       "      <td>-2.714142</td>\n",
       "      <td>-0.177001</td>\n",
       "      <td>-0.210464</td>\n",
       "      <td>setosa</td>\n",
       "    </tr>\n",
       "    <tr>\n",
       "      <th>2</th>\n",
       "      <td>-2.888991</td>\n",
       "      <td>-0.144949</td>\n",
       "      <td>0.017900</td>\n",
       "      <td>setosa</td>\n",
       "    </tr>\n",
       "    <tr>\n",
       "      <th>3</th>\n",
       "      <td>-2.745343</td>\n",
       "      <td>-0.318299</td>\n",
       "      <td>0.031559</td>\n",
       "      <td>setosa</td>\n",
       "    </tr>\n",
       "    <tr>\n",
       "      <th>4</th>\n",
       "      <td>-2.728717</td>\n",
       "      <td>0.326755</td>\n",
       "      <td>0.090079</td>\n",
       "      <td>setosa</td>\n",
       "    </tr>\n",
       "  </tbody>\n",
       "</table>\n",
       "</div>"
      ],
      "text/plain": [
       "      PCA-1     PCA-2     PCA-3 species\n",
       "0 -2.684126  0.319397 -0.027915  setosa\n",
       "1 -2.714142 -0.177001 -0.210464  setosa\n",
       "2 -2.888991 -0.144949  0.017900  setosa\n",
       "3 -2.745343 -0.318299  0.031559  setosa\n",
       "4 -2.728717  0.326755  0.090079  setosa"
      ]
     },
     "execution_count": 9,
     "metadata": {},
     "output_type": "execute_result"
    }
   ],
   "source": [
    "#Concatination of PCA dataframe and label values\n",
    "finaldata = pd.concat([pcadata, df.iloc[:,-1]], axis=1)\n",
    "finaldata.head()"
   ]
  },
  {
   "cell_type": "code",
   "execution_count": 10,
   "metadata": {
    "scrolled": false
   },
   "outputs": [
    {
     "name": "stderr",
     "output_type": "stream",
     "text": [
      "C:\\Users\\Kumar\\anaconda3\\lib\\site-packages\\cufflinks\\plotlytools.py:807: FutureWarning:\n",
      "\n",
      "The pandas.np module is deprecated and will be removed from pandas in a future version. Import numpy directly instead\n",
      "\n",
      "C:\\Users\\Kumar\\anaconda3\\lib\\site-packages\\cufflinks\\plotlytools.py:810: FutureWarning:\n",
      "\n",
      "The pandas.np module is deprecated and will be removed from pandas in a future version. Import numpy directly instead\n",
      "\n"
     ]
    },
    {
     "data": {
      "application/vnd.plotly.v1+json": {
       "config": {
        "linkText": "Export to plot.ly",
        "plotlyServerURL": "https://plot.ly",
        "showLink": true
       },
       "data": [
        {
         "marker": {
          "color": "rgba(219, 64, 82, 1.0)",
          "line": {
           "width": 1.3
          },
          "opacity": 0.8,
          "size": 12,
          "symbol": "circle"
         },
         "mode": "markers",
         "name": "setosa",
         "textfont": {
          "color": "#505050"
         },
         "type": "scatter",
         "x": [
          -2.684125625969535,
          -2.714141687294323,
          -2.8889905690592954,
          -2.745342855641408,
          -2.7287165365545283,
          -2.280859632844491,
          -2.8205377507406073,
          -2.626144973146631,
          -2.886382731780551,
          -2.672755797820952,
          -2.506947090651854,
          -2.612755230908721,
          -2.786109266188016,
          -3.2238037438656497,
          -2.644750389942028,
          -2.386039033531131,
          -2.6235278752244247,
          -2.6482967062543796,
          -2.1998203236175784,
          -2.5879863998787664,
          -2.3102562152425166,
          -2.5437052287571547,
          -3.21593941564861,
          -2.302733182226205,
          -2.355754049123771,
          -2.50666890692582,
          -2.468820073121337,
          -2.5623199061960142,
          -2.6395347153845403,
          -2.631989387274344,
          -2.5873984766893505,
          -2.409932497002173,
          -2.6488623343499107,
          -2.5987367491005853,
          -2.636926878105797,
          -2.8662416521186675,
          -2.6252380498503705,
          -2.8006841154482203,
          -2.9805020437819914,
          -2.590006313968094,
          -2.7701024260278992,
          -2.8493687050431005,
          -2.9974065465949056,
          -2.405614485097484,
          -2.2094892377836777,
          -2.7144514267577056,
          -2.5381482589989384,
          -2.839462167642848,
          -2.543085749830391,
          -2.7033597823351574
         ],
         "y": [
          0.3193972465851018,
          -0.17700122506477986,
          -0.14494942608555686,
          -0.31829897925191564,
          0.32675451293492036,
          0.7413304490629153,
          -0.08946138452856829,
          0.1633849596983291,
          -0.5783117541867034,
          -0.1137742458741165,
          0.6450688986485741,
          0.014729939161375,
          -0.23511200020171813,
          -0.5113945870063816,
          1.1787646364375755,
          1.3380623304006525,
          0.8106795141812578,
          0.3118491445933551,
          0.8728390389622113,
          0.5135603087492775,
          0.3913459356538945,
          0.43299606327902856,
          0.1334680695385263,
          0.09870885481409991,
          -0.037281859677382005,
          -0.1460168804952674,
          0.1309514894352507,
          0.3677188574342003,
          0.31203998023528323,
          -0.19696122492431414,
          -0.204318491274133,
          0.4109242642295732,
          0.8133638202969626,
          1.0931457594493572,
          -0.12132234786586282,
          0.0693644715800809,
          0.599370021379424,
          0.2686437377979828,
          -0.48795834442861497,
          0.22904383682701301,
          0.26352753374425686,
          -0.9409605736411965,
          -0.3419260574716094,
          0.18887142893026085,
          0.4366631416391884,
          -0.2502082041852108,
          0.5037711444614381,
          -0.22794556949382716,
          0.5794100215198899,
          0.10770608249941199
         ]
        },
        {
         "marker": {
          "color": "rgba(0, 128, 0, 1.0)",
          "line": {
           "width": 1.3
          },
          "opacity": 0.8,
          "size": 12,
          "symbol": "circle"
         },
         "mode": "markers",
         "name": "versicolor",
         "textfont": {
          "color": "#505050"
         },
         "type": "scatter",
         "x": [
          1.2848256888583531,
          0.9324885323123201,
          1.4643023219913958,
          0.18331771995837276,
          1.0881032577116676,
          0.6416690842580797,
          1.0950606626324484,
          -0.7491226698296551,
          1.0441318260534376,
          -0.008745404082894245,
          -0.5078408838353236,
          0.5116985574475992,
          0.26497650811204854,
          0.9849345104708919,
          -0.1739253716817659,
          0.9278607809442488,
          0.6602837616969388,
          0.23610499331767346,
          0.9447337280198151,
          0.04522697629870185,
          1.1162831773500512,
          0.35788841799730914,
          1.2981838753589157,
          0.9217289224470387,
          0.7148533259114137,
          0.900174373172169,
          1.33202443672209,
          1.557802155066072,
          0.8132906498175432,
          -0.3055837780243069,
          -0.06812649206836147,
          -0.18962247237849977,
          0.13642871155801686,
          1.3800264359155128,
          0.5880064433398651,
          0.806858312500414,
          1.2206908824443543,
          0.8150952357666016,
          0.24595767988669437,
          0.16641321714545876,
          0.464800288403781,
          0.8908151984694511,
          0.23054802355945733,
          -0.7045317592446614,
          0.3569814947010488,
          0.3319344799450601,
          0.37621565106667226,
          0.6425760075543397,
          -0.9064698649488337,
          0.2990008418781451
         ],
         "y": [
          0.6851604704673085,
          0.31833363826262906,
          0.5042628153092042,
          -0.8279590118206319,
          0.07459067519771623,
          -0.4182468715686785,
          0.2834682700615293,
          -1.004890961181895,
          0.22836189978839566,
          -0.7230819050048337,
          -1.2659711905263933,
          -0.10398123549904012,
          -0.5500364636804747,
          -0.12481785412635717,
          -0.25485420870258896,
          0.4671794944415105,
          -0.35296966572385,
          -0.3336107668249152,
          -0.5431455507797665,
          -0.5838343774718642,
          -0.08461685219478762,
          -0.06892503165601375,
          -0.3277873083339173,
          -0.18273779362136724,
          0.14905594436978478,
          0.32850447383432335,
          0.24444087601634348,
          0.26749544731025465,
          -0.16335030068761602,
          -0.3682621897545878,
          -0.7051721317994653,
          -0.6802867635281332,
          -0.31403243824923655,
          -0.4209542873138817,
          -0.4842874199812179,
          0.19418231471315126,
          0.4076195936110071,
          -0.37203705990950175,
          -0.26852439662201455,
          -0.6819267248636264,
          -0.67071154451172,
          -0.03446444436826863,
          -0.40438584800732497,
          -1.012248227531714,
          -0.5049100933371082,
          -0.21265468378116945,
          -0.2932189292514186,
          0.017738190112416445,
          -0.7560933665990138,
          -0.34889780645033563
         ]
        },
        {
         "marker": {
          "color": "rgba(55, 128, 191, 1.0)",
          "line": {
           "width": 1.3
          },
          "opacity": 0.8,
          "size": 12,
          "symbol": "circle"
         },
         "mode": "markers",
         "name": "virginica",
         "textfont": {
          "color": "#505050"
         },
         "type": "scatter",
         "x": [
          2.5311927278036292,
          1.4152358767039042,
          2.616676015995691,
          1.9715310530434371,
          2.3500059200446417,
          3.39703873605326,
          0.5212322439097755,
          2.93258706899369,
          2.321228816573379,
          2.916750966786074,
          1.6617741536365331,
          1.8034019529650929,
          2.1655917960801467,
          1.3461635794584532,
          1.5859282238732222,
          1.9044563747934284,
          1.9496890593990706,
          3.4870553642902804,
          3.795645422072885,
          1.300791712637659,
          2.427817913066047,
          1.199001105465562,
          3.499920038924539,
          1.3887661316914668,
          2.2754305038722062,
          2.614090473810833,
          1.2585081605114894,
          1.2911320591150226,
          2.1236087227738962,
          2.388003016003469,
          2.8416727781038715,
          3.230673661432094,
          2.1594376424890513,
          1.4441612423295112,
          1.7812948100451136,
          3.076499931687189,
          2.144243314302083,
          1.9050981488140775,
          1.1693263393415017,
          2.1076111432572437,
          2.314154705235601,
          1.9222678009026024,
          1.4152358767039042,
          2.563013375077477,
          2.4187461827328263,
          1.9441097945469694,
          1.5271666148145189,
          1.7643457170444306,
          1.9009416142184248,
          1.3901888619479155
         ],
         "y": [
          -0.009849109498801648,
          -0.574916347546489,
          0.3439031513417343,
          -0.17972790435224525,
          -0.04026094714253081,
          0.5508366730280554,
          -1.1927587270006448,
          0.3555000029774962,
          -0.24383150231069067,
          0.7827919488152787,
          0.24222840775506718,
          -0.21563761733355527,
          0.21627558507402483,
          -0.7768183473443392,
          -0.5396407140267183,
          0.1192506920919729,
          0.041943259663211566,
          1.175739329713429,
          0.2573229734204791,
          -0.7611496364350631,
          0.3781960126170508,
          -0.6060915277579301,
          0.46067409891189487,
          -0.20439932735215074,
          0.3349906058216775,
          0.5609013551230777,
          -0.17970479472274642,
          -0.11666865117401116,
          -0.2097294766773025,
          0.46463980470873634,
          0.37526916719510317,
          1.3741650867930473,
          -0.21727757866904887,
          -0.14341341045758052,
          -0.49990168107813626,
          0.6880856775711754,
          0.14006420108979042,
          0.04930052601303045,
          -0.16499026202310926,
          0.37228787196079777,
          0.18365127916901905,
          0.4092034668160622,
          -0.574916347546489,
          0.2778626029291949,
          0.30479819785469214,
          0.1875323028006052,
          -0.3753169825804883,
          0.07885885451847591,
          0.11662795851202401,
          -0.28266093799055014
         ]
        }
       ],
       "layout": {
        "legend": {
         "bgcolor": "#F2F3F7",
         "font": {
          "color": "#505050"
         }
        },
        "paper_bgcolor": "#F2F3F7",
        "plot_bgcolor": "#F2F3F7",
        "template": {
         "data": {
          "bar": [
           {
            "error_x": {
             "color": "#2a3f5f"
            },
            "error_y": {
             "color": "#2a3f5f"
            },
            "marker": {
             "line": {
              "color": "#E5ECF6",
              "width": 0.5
             }
            },
            "type": "bar"
           }
          ],
          "barpolar": [
           {
            "marker": {
             "line": {
              "color": "#E5ECF6",
              "width": 0.5
             }
            },
            "type": "barpolar"
           }
          ],
          "carpet": [
           {
            "aaxis": {
             "endlinecolor": "#2a3f5f",
             "gridcolor": "white",
             "linecolor": "white",
             "minorgridcolor": "white",
             "startlinecolor": "#2a3f5f"
            },
            "baxis": {
             "endlinecolor": "#2a3f5f",
             "gridcolor": "white",
             "linecolor": "white",
             "minorgridcolor": "white",
             "startlinecolor": "#2a3f5f"
            },
            "type": "carpet"
           }
          ],
          "choropleth": [
           {
            "colorbar": {
             "outlinewidth": 0,
             "ticks": ""
            },
            "type": "choropleth"
           }
          ],
          "contour": [
           {
            "colorbar": {
             "outlinewidth": 0,
             "ticks": ""
            },
            "colorscale": [
             [
              0,
              "#0d0887"
             ],
             [
              0.1111111111111111,
              "#46039f"
             ],
             [
              0.2222222222222222,
              "#7201a8"
             ],
             [
              0.3333333333333333,
              "#9c179e"
             ],
             [
              0.4444444444444444,
              "#bd3786"
             ],
             [
              0.5555555555555556,
              "#d8576b"
             ],
             [
              0.6666666666666666,
              "#ed7953"
             ],
             [
              0.7777777777777778,
              "#fb9f3a"
             ],
             [
              0.8888888888888888,
              "#fdca26"
             ],
             [
              1,
              "#f0f921"
             ]
            ],
            "type": "contour"
           }
          ],
          "contourcarpet": [
           {
            "colorbar": {
             "outlinewidth": 0,
             "ticks": ""
            },
            "type": "contourcarpet"
           }
          ],
          "heatmap": [
           {
            "colorbar": {
             "outlinewidth": 0,
             "ticks": ""
            },
            "colorscale": [
             [
              0,
              "#0d0887"
             ],
             [
              0.1111111111111111,
              "#46039f"
             ],
             [
              0.2222222222222222,
              "#7201a8"
             ],
             [
              0.3333333333333333,
              "#9c179e"
             ],
             [
              0.4444444444444444,
              "#bd3786"
             ],
             [
              0.5555555555555556,
              "#d8576b"
             ],
             [
              0.6666666666666666,
              "#ed7953"
             ],
             [
              0.7777777777777778,
              "#fb9f3a"
             ],
             [
              0.8888888888888888,
              "#fdca26"
             ],
             [
              1,
              "#f0f921"
             ]
            ],
            "type": "heatmap"
           }
          ],
          "heatmapgl": [
           {
            "colorbar": {
             "outlinewidth": 0,
             "ticks": ""
            },
            "colorscale": [
             [
              0,
              "#0d0887"
             ],
             [
              0.1111111111111111,
              "#46039f"
             ],
             [
              0.2222222222222222,
              "#7201a8"
             ],
             [
              0.3333333333333333,
              "#9c179e"
             ],
             [
              0.4444444444444444,
              "#bd3786"
             ],
             [
              0.5555555555555556,
              "#d8576b"
             ],
             [
              0.6666666666666666,
              "#ed7953"
             ],
             [
              0.7777777777777778,
              "#fb9f3a"
             ],
             [
              0.8888888888888888,
              "#fdca26"
             ],
             [
              1,
              "#f0f921"
             ]
            ],
            "type": "heatmapgl"
           }
          ],
          "histogram": [
           {
            "marker": {
             "colorbar": {
              "outlinewidth": 0,
              "ticks": ""
             }
            },
            "type": "histogram"
           }
          ],
          "histogram2d": [
           {
            "colorbar": {
             "outlinewidth": 0,
             "ticks": ""
            },
            "colorscale": [
             [
              0,
              "#0d0887"
             ],
             [
              0.1111111111111111,
              "#46039f"
             ],
             [
              0.2222222222222222,
              "#7201a8"
             ],
             [
              0.3333333333333333,
              "#9c179e"
             ],
             [
              0.4444444444444444,
              "#bd3786"
             ],
             [
              0.5555555555555556,
              "#d8576b"
             ],
             [
              0.6666666666666666,
              "#ed7953"
             ],
             [
              0.7777777777777778,
              "#fb9f3a"
             ],
             [
              0.8888888888888888,
              "#fdca26"
             ],
             [
              1,
              "#f0f921"
             ]
            ],
            "type": "histogram2d"
           }
          ],
          "histogram2dcontour": [
           {
            "colorbar": {
             "outlinewidth": 0,
             "ticks": ""
            },
            "colorscale": [
             [
              0,
              "#0d0887"
             ],
             [
              0.1111111111111111,
              "#46039f"
             ],
             [
              0.2222222222222222,
              "#7201a8"
             ],
             [
              0.3333333333333333,
              "#9c179e"
             ],
             [
              0.4444444444444444,
              "#bd3786"
             ],
             [
              0.5555555555555556,
              "#d8576b"
             ],
             [
              0.6666666666666666,
              "#ed7953"
             ],
             [
              0.7777777777777778,
              "#fb9f3a"
             ],
             [
              0.8888888888888888,
              "#fdca26"
             ],
             [
              1,
              "#f0f921"
             ]
            ],
            "type": "histogram2dcontour"
           }
          ],
          "mesh3d": [
           {
            "colorbar": {
             "outlinewidth": 0,
             "ticks": ""
            },
            "type": "mesh3d"
           }
          ],
          "parcoords": [
           {
            "line": {
             "colorbar": {
              "outlinewidth": 0,
              "ticks": ""
             }
            },
            "type": "parcoords"
           }
          ],
          "pie": [
           {
            "automargin": true,
            "type": "pie"
           }
          ],
          "scatter": [
           {
            "marker": {
             "colorbar": {
              "outlinewidth": 0,
              "ticks": ""
             }
            },
            "type": "scatter"
           }
          ],
          "scatter3d": [
           {
            "line": {
             "colorbar": {
              "outlinewidth": 0,
              "ticks": ""
             }
            },
            "marker": {
             "colorbar": {
              "outlinewidth": 0,
              "ticks": ""
             }
            },
            "type": "scatter3d"
           }
          ],
          "scattercarpet": [
           {
            "marker": {
             "colorbar": {
              "outlinewidth": 0,
              "ticks": ""
             }
            },
            "type": "scattercarpet"
           }
          ],
          "scattergeo": [
           {
            "marker": {
             "colorbar": {
              "outlinewidth": 0,
              "ticks": ""
             }
            },
            "type": "scattergeo"
           }
          ],
          "scattergl": [
           {
            "marker": {
             "colorbar": {
              "outlinewidth": 0,
              "ticks": ""
             }
            },
            "type": "scattergl"
           }
          ],
          "scattermapbox": [
           {
            "marker": {
             "colorbar": {
              "outlinewidth": 0,
              "ticks": ""
             }
            },
            "type": "scattermapbox"
           }
          ],
          "scatterpolar": [
           {
            "marker": {
             "colorbar": {
              "outlinewidth": 0,
              "ticks": ""
             }
            },
            "type": "scatterpolar"
           }
          ],
          "scatterpolargl": [
           {
            "marker": {
             "colorbar": {
              "outlinewidth": 0,
              "ticks": ""
             }
            },
            "type": "scatterpolargl"
           }
          ],
          "scatterternary": [
           {
            "marker": {
             "colorbar": {
              "outlinewidth": 0,
              "ticks": ""
             }
            },
            "type": "scatterternary"
           }
          ],
          "surface": [
           {
            "colorbar": {
             "outlinewidth": 0,
             "ticks": ""
            },
            "colorscale": [
             [
              0,
              "#0d0887"
             ],
             [
              0.1111111111111111,
              "#46039f"
             ],
             [
              0.2222222222222222,
              "#7201a8"
             ],
             [
              0.3333333333333333,
              "#9c179e"
             ],
             [
              0.4444444444444444,
              "#bd3786"
             ],
             [
              0.5555555555555556,
              "#d8576b"
             ],
             [
              0.6666666666666666,
              "#ed7953"
             ],
             [
              0.7777777777777778,
              "#fb9f3a"
             ],
             [
              0.8888888888888888,
              "#fdca26"
             ],
             [
              1,
              "#f0f921"
             ]
            ],
            "type": "surface"
           }
          ],
          "table": [
           {
            "cells": {
             "fill": {
              "color": "#EBF0F8"
             },
             "line": {
              "color": "white"
             }
            },
            "header": {
             "fill": {
              "color": "#C8D4E3"
             },
             "line": {
              "color": "white"
             }
            },
            "type": "table"
           }
          ]
         },
         "layout": {
          "annotationdefaults": {
           "arrowcolor": "#2a3f5f",
           "arrowhead": 0,
           "arrowwidth": 1
          },
          "autotypenumbers": "strict",
          "coloraxis": {
           "colorbar": {
            "outlinewidth": 0,
            "ticks": ""
           }
          },
          "colorscale": {
           "diverging": [
            [
             0,
             "#8e0152"
            ],
            [
             0.1,
             "#c51b7d"
            ],
            [
             0.2,
             "#de77ae"
            ],
            [
             0.3,
             "#f1b6da"
            ],
            [
             0.4,
             "#fde0ef"
            ],
            [
             0.5,
             "#f7f7f7"
            ],
            [
             0.6,
             "#e6f5d0"
            ],
            [
             0.7,
             "#b8e186"
            ],
            [
             0.8,
             "#7fbc41"
            ],
            [
             0.9,
             "#4d9221"
            ],
            [
             1,
             "#276419"
            ]
           ],
           "sequential": [
            [
             0,
             "#0d0887"
            ],
            [
             0.1111111111111111,
             "#46039f"
            ],
            [
             0.2222222222222222,
             "#7201a8"
            ],
            [
             0.3333333333333333,
             "#9c179e"
            ],
            [
             0.4444444444444444,
             "#bd3786"
            ],
            [
             0.5555555555555556,
             "#d8576b"
            ],
            [
             0.6666666666666666,
             "#ed7953"
            ],
            [
             0.7777777777777778,
             "#fb9f3a"
            ],
            [
             0.8888888888888888,
             "#fdca26"
            ],
            [
             1,
             "#f0f921"
            ]
           ],
           "sequentialminus": [
            [
             0,
             "#0d0887"
            ],
            [
             0.1111111111111111,
             "#46039f"
            ],
            [
             0.2222222222222222,
             "#7201a8"
            ],
            [
             0.3333333333333333,
             "#9c179e"
            ],
            [
             0.4444444444444444,
             "#bd3786"
            ],
            [
             0.5555555555555556,
             "#d8576b"
            ],
            [
             0.6666666666666666,
             "#ed7953"
            ],
            [
             0.7777777777777778,
             "#fb9f3a"
            ],
            [
             0.8888888888888888,
             "#fdca26"
            ],
            [
             1,
             "#f0f921"
            ]
           ]
          },
          "colorway": [
           "#636efa",
           "#EF553B",
           "#00cc96",
           "#ab63fa",
           "#FFA15A",
           "#19d3f3",
           "#FF6692",
           "#B6E880",
           "#FF97FF",
           "#FECB52"
          ],
          "font": {
           "color": "#2a3f5f"
          },
          "geo": {
           "bgcolor": "white",
           "lakecolor": "white",
           "landcolor": "#E5ECF6",
           "showlakes": true,
           "showland": true,
           "subunitcolor": "white"
          },
          "hoverlabel": {
           "align": "left"
          },
          "hovermode": "closest",
          "mapbox": {
           "style": "light"
          },
          "paper_bgcolor": "white",
          "plot_bgcolor": "#E5ECF6",
          "polar": {
           "angularaxis": {
            "gridcolor": "white",
            "linecolor": "white",
            "ticks": ""
           },
           "bgcolor": "#E5ECF6",
           "radialaxis": {
            "gridcolor": "white",
            "linecolor": "white",
            "ticks": ""
           }
          },
          "scene": {
           "xaxis": {
            "backgroundcolor": "#E5ECF6",
            "gridcolor": "white",
            "gridwidth": 2,
            "linecolor": "white",
            "showbackground": true,
            "ticks": "",
            "zerolinecolor": "white"
           },
           "yaxis": {
            "backgroundcolor": "#E5ECF6",
            "gridcolor": "white",
            "gridwidth": 2,
            "linecolor": "white",
            "showbackground": true,
            "ticks": "",
            "zerolinecolor": "white"
           },
           "zaxis": {
            "backgroundcolor": "#E5ECF6",
            "gridcolor": "white",
            "gridwidth": 2,
            "linecolor": "white",
            "showbackground": true,
            "ticks": "",
            "zerolinecolor": "white"
           }
          },
          "shapedefaults": {
           "line": {
            "color": "#2a3f5f"
           }
          },
          "ternary": {
           "aaxis": {
            "gridcolor": "white",
            "linecolor": "white",
            "ticks": ""
           },
           "baxis": {
            "gridcolor": "white",
            "linecolor": "white",
            "ticks": ""
           },
           "bgcolor": "#E5ECF6",
           "caxis": {
            "gridcolor": "white",
            "linecolor": "white",
            "ticks": ""
           }
          },
          "title": {
           "x": 0.05
          },
          "xaxis": {
           "automargin": true,
           "gridcolor": "white",
           "linecolor": "white",
           "ticks": "",
           "title": {
            "standoff": 15
           },
           "zerolinecolor": "white",
           "zerolinewidth": 2
          },
          "yaxis": {
           "automargin": true,
           "gridcolor": "white",
           "linecolor": "white",
           "ticks": "",
           "title": {
            "standoff": 15
           },
           "zerolinecolor": "white",
           "zerolinewidth": 2
          }
         }
        },
        "title": {
         "font": {
          "color": "#484848"
         },
         "text": "Iris Datasett"
        },
        "xaxis": {
         "gridcolor": "#E1E5ED",
         "showgrid": true,
         "tickfont": {
          "color": "#505050"
         },
         "title": {
          "font": {
           "color": "#505050"
          },
          "text": "Principalcomponent-1"
         },
         "zerolinecolor": "#E1E5ED"
        },
        "yaxis": {
         "gridcolor": "#E1E5ED",
         "showgrid": true,
         "tickfont": {
          "color": "#505050"
         },
         "title": {
          "font": {
           "color": "#505050"
          },
          "text": "Principalcomponent-2"
         },
         "zerolinecolor": "#E1E5ED"
        }
       }
      },
      "text/html": [
       "<div>                            <div id=\"f7485e43-c488-4c37-9323-1fab08012349\" class=\"plotly-graph-div\" style=\"height:525px; width:100%;\"></div>            <script type=\"text/javascript\">                require([\"plotly\"], function(Plotly) {                    window.PLOTLYENV=window.PLOTLYENV || {};\n",
       "                    window.PLOTLYENV.BASE_URL='https://plot.ly';                                    if (document.getElementById(\"f7485e43-c488-4c37-9323-1fab08012349\")) {                    Plotly.newPlot(                        \"f7485e43-c488-4c37-9323-1fab08012349\",                        [{\"marker\": {\"color\": \"rgba(219, 64, 82, 1.0)\", \"line\": {\"width\": 1.3}, \"opacity\": 0.8, \"size\": 12, \"symbol\": \"circle\"}, \"mode\": \"markers\", \"name\": \"setosa\", \"textfont\": {\"color\": \"#505050\"}, \"type\": \"scatter\", \"x\": [-2.684125625969535, -2.714141687294323, -2.8889905690592954, -2.745342855641408, -2.7287165365545283, -2.280859632844491, -2.8205377507406073, -2.626144973146631, -2.886382731780551, -2.672755797820952, -2.506947090651854, -2.612755230908721, -2.786109266188016, -3.2238037438656497, -2.644750389942028, -2.386039033531131, -2.6235278752244247, -2.6482967062543796, -2.1998203236175784, -2.5879863998787664, -2.3102562152425166, -2.5437052287571547, -3.21593941564861, -2.302733182226205, -2.355754049123771, -2.50666890692582, -2.468820073121337, -2.5623199061960142, -2.6395347153845403, -2.631989387274344, -2.5873984766893505, -2.409932497002173, -2.6488623343499107, -2.5987367491005853, -2.636926878105797, -2.8662416521186675, -2.6252380498503705, -2.8006841154482203, -2.9805020437819914, -2.590006313968094, -2.7701024260278992, -2.8493687050431005, -2.9974065465949056, -2.405614485097484, -2.2094892377836777, -2.7144514267577056, -2.5381482589989384, -2.839462167642848, -2.543085749830391, -2.7033597823351574], \"y\": [0.3193972465851018, -0.17700122506477986, -0.14494942608555686, -0.31829897925191564, 0.32675451293492036, 0.7413304490629153, -0.08946138452856829, 0.1633849596983291, -0.5783117541867034, -0.1137742458741165, 0.6450688986485741, 0.014729939161375, -0.23511200020171813, -0.5113945870063816, 1.1787646364375755, 1.3380623304006525, 0.8106795141812578, 0.3118491445933551, 0.8728390389622113, 0.5135603087492775, 0.3913459356538945, 0.43299606327902856, 0.1334680695385263, 0.09870885481409991, -0.037281859677382005, -0.1460168804952674, 0.1309514894352507, 0.3677188574342003, 0.31203998023528323, -0.19696122492431414, -0.204318491274133, 0.4109242642295732, 0.8133638202969626, 1.0931457594493572, -0.12132234786586282, 0.0693644715800809, 0.599370021379424, 0.2686437377979828, -0.48795834442861497, 0.22904383682701301, 0.26352753374425686, -0.9409605736411965, -0.3419260574716094, 0.18887142893026085, 0.4366631416391884, -0.2502082041852108, 0.5037711444614381, -0.22794556949382716, 0.5794100215198899, 0.10770608249941199]}, {\"marker\": {\"color\": \"rgba(0, 128, 0, 1.0)\", \"line\": {\"width\": 1.3}, \"opacity\": 0.8, \"size\": 12, \"symbol\": \"circle\"}, \"mode\": \"markers\", \"name\": \"versicolor\", \"textfont\": {\"color\": \"#505050\"}, \"type\": \"scatter\", \"x\": [1.2848256888583531, 0.9324885323123201, 1.4643023219913958, 0.18331771995837276, 1.0881032577116676, 0.6416690842580797, 1.0950606626324484, -0.7491226698296551, 1.0441318260534376, -0.008745404082894245, -0.5078408838353236, 0.5116985574475992, 0.26497650811204854, 0.9849345104708919, -0.1739253716817659, 0.9278607809442488, 0.6602837616969388, 0.23610499331767346, 0.9447337280198151, 0.04522697629870185, 1.1162831773500512, 0.35788841799730914, 1.2981838753589157, 0.9217289224470387, 0.7148533259114137, 0.900174373172169, 1.33202443672209, 1.557802155066072, 0.8132906498175432, -0.3055837780243069, -0.06812649206836147, -0.18962247237849977, 0.13642871155801686, 1.3800264359155128, 0.5880064433398651, 0.806858312500414, 1.2206908824443543, 0.8150952357666016, 0.24595767988669437, 0.16641321714545876, 0.464800288403781, 0.8908151984694511, 0.23054802355945733, -0.7045317592446614, 0.3569814947010488, 0.3319344799450601, 0.37621565106667226, 0.6425760075543397, -0.9064698649488337, 0.2990008418781451], \"y\": [0.6851604704673085, 0.31833363826262906, 0.5042628153092042, -0.8279590118206319, 0.07459067519771623, -0.4182468715686785, 0.2834682700615293, -1.004890961181895, 0.22836189978839566, -0.7230819050048337, -1.2659711905263933, -0.10398123549904012, -0.5500364636804747, -0.12481785412635717, -0.25485420870258896, 0.4671794944415105, -0.35296966572385, -0.3336107668249152, -0.5431455507797665, -0.5838343774718642, -0.08461685219478762, -0.06892503165601375, -0.3277873083339173, -0.18273779362136724, 0.14905594436978478, 0.32850447383432335, 0.24444087601634348, 0.26749544731025465, -0.16335030068761602, -0.3682621897545878, -0.7051721317994653, -0.6802867635281332, -0.31403243824923655, -0.4209542873138817, -0.4842874199812179, 0.19418231471315126, 0.4076195936110071, -0.37203705990950175, -0.26852439662201455, -0.6819267248636264, -0.67071154451172, -0.03446444436826863, -0.40438584800732497, -1.012248227531714, -0.5049100933371082, -0.21265468378116945, -0.2932189292514186, 0.017738190112416445, -0.7560933665990138, -0.34889780645033563]}, {\"marker\": {\"color\": \"rgba(55, 128, 191, 1.0)\", \"line\": {\"width\": 1.3}, \"opacity\": 0.8, \"size\": 12, \"symbol\": \"circle\"}, \"mode\": \"markers\", \"name\": \"virginica\", \"textfont\": {\"color\": \"#505050\"}, \"type\": \"scatter\", \"x\": [2.5311927278036292, 1.4152358767039042, 2.616676015995691, 1.9715310530434371, 2.3500059200446417, 3.39703873605326, 0.5212322439097755, 2.93258706899369, 2.321228816573379, 2.916750966786074, 1.6617741536365331, 1.8034019529650929, 2.1655917960801467, 1.3461635794584532, 1.5859282238732222, 1.9044563747934284, 1.9496890593990706, 3.4870553642902804, 3.795645422072885, 1.300791712637659, 2.427817913066047, 1.199001105465562, 3.499920038924539, 1.3887661316914668, 2.2754305038722062, 2.614090473810833, 1.2585081605114894, 1.2911320591150226, 2.1236087227738962, 2.388003016003469, 2.8416727781038715, 3.230673661432094, 2.1594376424890513, 1.4441612423295112, 1.7812948100451136, 3.076499931687189, 2.144243314302083, 1.9050981488140775, 1.1693263393415017, 2.1076111432572437, 2.314154705235601, 1.9222678009026024, 1.4152358767039042, 2.563013375077477, 2.4187461827328263, 1.9441097945469694, 1.5271666148145189, 1.7643457170444306, 1.9009416142184248, 1.3901888619479155], \"y\": [-0.009849109498801648, -0.574916347546489, 0.3439031513417343, -0.17972790435224525, -0.04026094714253081, 0.5508366730280554, -1.1927587270006448, 0.3555000029774962, -0.24383150231069067, 0.7827919488152787, 0.24222840775506718, -0.21563761733355527, 0.21627558507402483, -0.7768183473443392, -0.5396407140267183, 0.1192506920919729, 0.041943259663211566, 1.175739329713429, 0.2573229734204791, -0.7611496364350631, 0.3781960126170508, -0.6060915277579301, 0.46067409891189487, -0.20439932735215074, 0.3349906058216775, 0.5609013551230777, -0.17970479472274642, -0.11666865117401116, -0.2097294766773025, 0.46463980470873634, 0.37526916719510317, 1.3741650867930473, -0.21727757866904887, -0.14341341045758052, -0.49990168107813626, 0.6880856775711754, 0.14006420108979042, 0.04930052601303045, -0.16499026202310926, 0.37228787196079777, 0.18365127916901905, 0.4092034668160622, -0.574916347546489, 0.2778626029291949, 0.30479819785469214, 0.1875323028006052, -0.3753169825804883, 0.07885885451847591, 0.11662795851202401, -0.28266093799055014]}],                        {\"legend\": {\"bgcolor\": \"#F2F3F7\", \"font\": {\"color\": \"#505050\"}}, \"paper_bgcolor\": \"#F2F3F7\", \"plot_bgcolor\": \"#F2F3F7\", \"template\": {\"data\": {\"bar\": [{\"error_x\": {\"color\": \"#2a3f5f\"}, \"error_y\": {\"color\": \"#2a3f5f\"}, \"marker\": {\"line\": {\"color\": \"#E5ECF6\", \"width\": 0.5}}, \"type\": \"bar\"}], \"barpolar\": [{\"marker\": {\"line\": {\"color\": \"#E5ECF6\", \"width\": 0.5}}, \"type\": \"barpolar\"}], \"carpet\": [{\"aaxis\": {\"endlinecolor\": \"#2a3f5f\", \"gridcolor\": \"white\", \"linecolor\": \"white\", \"minorgridcolor\": \"white\", \"startlinecolor\": \"#2a3f5f\"}, \"baxis\": {\"endlinecolor\": \"#2a3f5f\", \"gridcolor\": \"white\", \"linecolor\": \"white\", \"minorgridcolor\": \"white\", \"startlinecolor\": \"#2a3f5f\"}, \"type\": \"carpet\"}], \"choropleth\": [{\"colorbar\": {\"outlinewidth\": 0, \"ticks\": \"\"}, \"type\": \"choropleth\"}], \"contour\": [{\"colorbar\": {\"outlinewidth\": 0, \"ticks\": \"\"}, \"colorscale\": [[0.0, \"#0d0887\"], [0.1111111111111111, \"#46039f\"], [0.2222222222222222, \"#7201a8\"], [0.3333333333333333, \"#9c179e\"], [0.4444444444444444, \"#bd3786\"], [0.5555555555555556, \"#d8576b\"], [0.6666666666666666, \"#ed7953\"], [0.7777777777777778, \"#fb9f3a\"], [0.8888888888888888, \"#fdca26\"], [1.0, \"#f0f921\"]], \"type\": \"contour\"}], \"contourcarpet\": [{\"colorbar\": {\"outlinewidth\": 0, \"ticks\": \"\"}, \"type\": \"contourcarpet\"}], \"heatmap\": [{\"colorbar\": {\"outlinewidth\": 0, \"ticks\": \"\"}, \"colorscale\": [[0.0, \"#0d0887\"], [0.1111111111111111, \"#46039f\"], [0.2222222222222222, \"#7201a8\"], [0.3333333333333333, \"#9c179e\"], [0.4444444444444444, \"#bd3786\"], [0.5555555555555556, \"#d8576b\"], [0.6666666666666666, \"#ed7953\"], [0.7777777777777778, \"#fb9f3a\"], [0.8888888888888888, \"#fdca26\"], [1.0, \"#f0f921\"]], \"type\": \"heatmap\"}], \"heatmapgl\": [{\"colorbar\": {\"outlinewidth\": 0, \"ticks\": \"\"}, \"colorscale\": [[0.0, \"#0d0887\"], [0.1111111111111111, \"#46039f\"], [0.2222222222222222, \"#7201a8\"], [0.3333333333333333, \"#9c179e\"], [0.4444444444444444, \"#bd3786\"], [0.5555555555555556, \"#d8576b\"], [0.6666666666666666, \"#ed7953\"], [0.7777777777777778, \"#fb9f3a\"], [0.8888888888888888, \"#fdca26\"], [1.0, \"#f0f921\"]], \"type\": \"heatmapgl\"}], \"histogram\": [{\"marker\": {\"colorbar\": {\"outlinewidth\": 0, \"ticks\": \"\"}}, \"type\": \"histogram\"}], \"histogram2d\": [{\"colorbar\": {\"outlinewidth\": 0, \"ticks\": \"\"}, \"colorscale\": [[0.0, \"#0d0887\"], [0.1111111111111111, \"#46039f\"], [0.2222222222222222, \"#7201a8\"], [0.3333333333333333, \"#9c179e\"], [0.4444444444444444, \"#bd3786\"], [0.5555555555555556, \"#d8576b\"], [0.6666666666666666, \"#ed7953\"], [0.7777777777777778, \"#fb9f3a\"], [0.8888888888888888, \"#fdca26\"], [1.0, \"#f0f921\"]], \"type\": \"histogram2d\"}], \"histogram2dcontour\": [{\"colorbar\": {\"outlinewidth\": 0, \"ticks\": \"\"}, \"colorscale\": [[0.0, \"#0d0887\"], [0.1111111111111111, \"#46039f\"], [0.2222222222222222, \"#7201a8\"], [0.3333333333333333, \"#9c179e\"], [0.4444444444444444, \"#bd3786\"], [0.5555555555555556, \"#d8576b\"], [0.6666666666666666, \"#ed7953\"], [0.7777777777777778, \"#fb9f3a\"], [0.8888888888888888, \"#fdca26\"], [1.0, \"#f0f921\"]], \"type\": \"histogram2dcontour\"}], \"mesh3d\": [{\"colorbar\": {\"outlinewidth\": 0, \"ticks\": \"\"}, \"type\": \"mesh3d\"}], \"parcoords\": [{\"line\": {\"colorbar\": {\"outlinewidth\": 0, \"ticks\": \"\"}}, \"type\": \"parcoords\"}], \"pie\": [{\"automargin\": true, \"type\": \"pie\"}], \"scatter\": [{\"marker\": {\"colorbar\": {\"outlinewidth\": 0, \"ticks\": \"\"}}, \"type\": \"scatter\"}], \"scatter3d\": [{\"line\": {\"colorbar\": {\"outlinewidth\": 0, \"ticks\": \"\"}}, \"marker\": {\"colorbar\": {\"outlinewidth\": 0, \"ticks\": \"\"}}, \"type\": \"scatter3d\"}], \"scattercarpet\": [{\"marker\": {\"colorbar\": {\"outlinewidth\": 0, \"ticks\": \"\"}}, \"type\": \"scattercarpet\"}], \"scattergeo\": [{\"marker\": {\"colorbar\": {\"outlinewidth\": 0, \"ticks\": \"\"}}, \"type\": \"scattergeo\"}], \"scattergl\": [{\"marker\": {\"colorbar\": {\"outlinewidth\": 0, \"ticks\": \"\"}}, \"type\": \"scattergl\"}], \"scattermapbox\": [{\"marker\": {\"colorbar\": {\"outlinewidth\": 0, \"ticks\": \"\"}}, \"type\": \"scattermapbox\"}], \"scatterpolar\": [{\"marker\": {\"colorbar\": {\"outlinewidth\": 0, \"ticks\": \"\"}}, \"type\": \"scatterpolar\"}], \"scatterpolargl\": [{\"marker\": {\"colorbar\": {\"outlinewidth\": 0, \"ticks\": \"\"}}, \"type\": \"scatterpolargl\"}], \"scatterternary\": [{\"marker\": {\"colorbar\": {\"outlinewidth\": 0, \"ticks\": \"\"}}, \"type\": \"scatterternary\"}], \"surface\": [{\"colorbar\": {\"outlinewidth\": 0, \"ticks\": \"\"}, \"colorscale\": [[0.0, \"#0d0887\"], [0.1111111111111111, \"#46039f\"], [0.2222222222222222, \"#7201a8\"], [0.3333333333333333, \"#9c179e\"], [0.4444444444444444, \"#bd3786\"], [0.5555555555555556, \"#d8576b\"], [0.6666666666666666, \"#ed7953\"], [0.7777777777777778, \"#fb9f3a\"], [0.8888888888888888, \"#fdca26\"], [1.0, \"#f0f921\"]], \"type\": \"surface\"}], \"table\": [{\"cells\": {\"fill\": {\"color\": \"#EBF0F8\"}, \"line\": {\"color\": \"white\"}}, \"header\": {\"fill\": {\"color\": \"#C8D4E3\"}, \"line\": {\"color\": \"white\"}}, \"type\": \"table\"}]}, \"layout\": {\"annotationdefaults\": {\"arrowcolor\": \"#2a3f5f\", \"arrowhead\": 0, \"arrowwidth\": 1}, \"autotypenumbers\": \"strict\", \"coloraxis\": {\"colorbar\": {\"outlinewidth\": 0, \"ticks\": \"\"}}, \"colorscale\": {\"diverging\": [[0, \"#8e0152\"], [0.1, \"#c51b7d\"], [0.2, \"#de77ae\"], [0.3, \"#f1b6da\"], [0.4, \"#fde0ef\"], [0.5, \"#f7f7f7\"], [0.6, \"#e6f5d0\"], [0.7, \"#b8e186\"], [0.8, \"#7fbc41\"], [0.9, \"#4d9221\"], [1, \"#276419\"]], \"sequential\": [[0.0, \"#0d0887\"], [0.1111111111111111, \"#46039f\"], [0.2222222222222222, \"#7201a8\"], [0.3333333333333333, \"#9c179e\"], [0.4444444444444444, \"#bd3786\"], [0.5555555555555556, \"#d8576b\"], [0.6666666666666666, \"#ed7953\"], [0.7777777777777778, \"#fb9f3a\"], [0.8888888888888888, \"#fdca26\"], [1.0, \"#f0f921\"]], \"sequentialminus\": [[0.0, \"#0d0887\"], [0.1111111111111111, \"#46039f\"], [0.2222222222222222, \"#7201a8\"], [0.3333333333333333, \"#9c179e\"], [0.4444444444444444, \"#bd3786\"], [0.5555555555555556, \"#d8576b\"], [0.6666666666666666, \"#ed7953\"], [0.7777777777777778, \"#fb9f3a\"], [0.8888888888888888, \"#fdca26\"], [1.0, \"#f0f921\"]]}, \"colorway\": [\"#636efa\", \"#EF553B\", \"#00cc96\", \"#ab63fa\", \"#FFA15A\", \"#19d3f3\", \"#FF6692\", \"#B6E880\", \"#FF97FF\", \"#FECB52\"], \"font\": {\"color\": \"#2a3f5f\"}, \"geo\": {\"bgcolor\": \"white\", \"lakecolor\": \"white\", \"landcolor\": \"#E5ECF6\", \"showlakes\": true, \"showland\": true, \"subunitcolor\": \"white\"}, \"hoverlabel\": {\"align\": \"left\"}, \"hovermode\": \"closest\", \"mapbox\": {\"style\": \"light\"}, \"paper_bgcolor\": \"white\", \"plot_bgcolor\": \"#E5ECF6\", \"polar\": {\"angularaxis\": {\"gridcolor\": \"white\", \"linecolor\": \"white\", \"ticks\": \"\"}, \"bgcolor\": \"#E5ECF6\", \"radialaxis\": {\"gridcolor\": \"white\", \"linecolor\": \"white\", \"ticks\": \"\"}}, \"scene\": {\"xaxis\": {\"backgroundcolor\": \"#E5ECF6\", \"gridcolor\": \"white\", \"gridwidth\": 2, \"linecolor\": \"white\", \"showbackground\": true, \"ticks\": \"\", \"zerolinecolor\": \"white\"}, \"yaxis\": {\"backgroundcolor\": \"#E5ECF6\", \"gridcolor\": \"white\", \"gridwidth\": 2, \"linecolor\": \"white\", \"showbackground\": true, \"ticks\": \"\", \"zerolinecolor\": \"white\"}, \"zaxis\": {\"backgroundcolor\": \"#E5ECF6\", \"gridcolor\": \"white\", \"gridwidth\": 2, \"linecolor\": \"white\", \"showbackground\": true, \"ticks\": \"\", \"zerolinecolor\": \"white\"}}, \"shapedefaults\": {\"line\": {\"color\": \"#2a3f5f\"}}, \"ternary\": {\"aaxis\": {\"gridcolor\": \"white\", \"linecolor\": \"white\", \"ticks\": \"\"}, \"baxis\": {\"gridcolor\": \"white\", \"linecolor\": \"white\", \"ticks\": \"\"}, \"bgcolor\": \"#E5ECF6\", \"caxis\": {\"gridcolor\": \"white\", \"linecolor\": \"white\", \"ticks\": \"\"}}, \"title\": {\"x\": 0.05}, \"xaxis\": {\"automargin\": true, \"gridcolor\": \"white\", \"linecolor\": \"white\", \"ticks\": \"\", \"title\": {\"standoff\": 15}, \"zerolinecolor\": \"white\", \"zerolinewidth\": 2}, \"yaxis\": {\"automargin\": true, \"gridcolor\": \"white\", \"linecolor\": \"white\", \"ticks\": \"\", \"title\": {\"standoff\": 15}, \"zerolinecolor\": \"white\", \"zerolinewidth\": 2}}}, \"title\": {\"font\": {\"color\": \"#484848\"}, \"text\": \"Iris Datasett\"}, \"xaxis\": {\"gridcolor\": \"#E1E5ED\", \"showgrid\": true, \"tickfont\": {\"color\": \"#505050\"}, \"title\": {\"font\": {\"color\": \"#505050\"}, \"text\": \"Principalcomponent-1\"}, \"zerolinecolor\": \"#E1E5ED\"}, \"yaxis\": {\"gridcolor\": \"#E1E5ED\", \"showgrid\": true, \"tickfont\": {\"color\": \"#505050\"}, \"title\": {\"font\": {\"color\": \"#505050\"}, \"text\": \"Principalcomponent-2\"}, \"zerolinecolor\": \"#E1E5ED\"}},                        {\"showLink\": true, \"linkText\": \"Export to plot.ly\", \"plotlyServerURL\": \"https://plot.ly\", \"responsive\": true}                    ).then(function(){\n",
       "                            \n",
       "var gd = document.getElementById('f7485e43-c488-4c37-9323-1fab08012349');\n",
       "var x = new MutationObserver(function (mutations, observer) {{\n",
       "        var display = window.getComputedStyle(gd).display;\n",
       "        if (!display || display === 'none') {{\n",
       "            console.log([gd, 'removed!']);\n",
       "            Plotly.purge(gd);\n",
       "            observer.disconnect();\n",
       "        }}\n",
       "}});\n",
       "\n",
       "// Listen for the removal of the full notebook cells\n",
       "var notebookContainer = gd.closest('#notebook-container');\n",
       "if (notebookContainer) {{\n",
       "    x.observe(notebookContainer, {childList: true});\n",
       "}}\n",
       "\n",
       "// Listen for the clearing of the current output cell\n",
       "var outputEl = gd.closest('.output');\n",
       "if (outputEl) {{\n",
       "    x.observe(outputEl, {childList: true});\n",
       "}}\n",
       "\n",
       "                        })                };                });            </script>        </div>"
      ]
     },
     "metadata": {},
     "output_type": "display_data"
    }
   ],
   "source": [
    "#Ploting 3d plot using iplot which was taught in the class.\n",
    "color = ['red','green','blue']\n",
    "finaldata.iplot(kind='surface',categories='species' ,colors = color ,title='Iris Datasett', xTitle='Principalcomponent-1', yTitle='Principalcomponent-2',zTitle='Principalcomponent-3', x='PCA-1',y='PCA-2',z='PCA-3')"
   ]
  },
  {
   "cell_type": "code",
   "execution_count": 11,
   "metadata": {
    "scrolled": false
   },
   "outputs": [
    {
     "data": {
      "image/png": "[encoded data removed]",
      "text/plain": [
       "<Figure size 720x720 with 1 Axes>"
      ]
     },
     "metadata": {
      "needs_background": "light"
     },
     "output_type": "display_data"
    }
   ],
   "source": [
    "#Ploting 3d view of IRIS dataset using another method.\n",
    "from mpl_toolkits.mplot3d import Axes3D\n",
    "fig = plt.figure(figsize = (10,10)) #reating a figure \n",
    "ax = fig.add_subplot(111, projection='3d') #adding subplots\n",
    "ax.set_xlabel('Principal Component 1', fontsize = 15) #Naming x_label\n",
    "ax.set_ylabel('Principal Component 2', fontsize = 15) #naming y_label\n",
    "ax.set_zlabel('Principal Component 3', fontsize = 15) #naming z_label\n",
    "ax.set_title('3 component PCA of IRIS dataset', fontsize = 20) #Title of the 3d plot\n",
    "\n",
    "labels = ['setosa', 'versicolor', 'virginica']\n",
    "colors = ['r', 'g', 'b']\n",
    "for label, color in zip(labels,colors):\n",
    "    indicesToKeep = finaldata['species'] == label\n",
    "    ax.scatter(finaldata.loc[indicesToKeep, 'PCA-1']\n",
    "               , finaldata.loc[indicesToKeep, 'PCA-2']\n",
    "               , finaldata.loc[indicesToKeep, 'PCA-3']\n",
    "               , c = color\n",
    "               , s = 40)\n",
    "ax.legend(labels)\n",
    "ax.grid()\n",
    "plt.show()"
   ]
  },
  {
   "cell_type": "code",
   "execution_count": null,
   "metadata": {},
   "outputs": [],
   "source": []
  },
  {
   "cell_type": "code",
   "execution_count": null,
   "metadata": {},
   "outputs": [],
   "source": []
  }
 ],
 "metadata": {
  "kernelspec": {
   "display_name": "Python 3",
   "language": "python",
   "name": "python3"
  },
  "language_info": {
   "codemirror_mode": {
    "name": "ipython",
    "version": 3
   },
   "file_extension": ".py",
   "mimetype": "text/x-python",
   "name": "python",
   "nbconvert_exporter": "python",
   "pygments_lexer": "ipython3",
   "version": "3.8.3"
  }
 },
 "nbformat": 4,
 "nbformat_minor": 4
}
