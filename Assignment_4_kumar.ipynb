{
 "cells": [
  {
   "cell_type": "markdown",
   "metadata": {},
   "source": [
    "# Assignment - 4\n",
    "# Name: Kumar R"
   ]
  },
  {
   "cell_type": "markdown",
   "metadata": {},
   "source": [
    "1.1 Write a Python Program(with class concepts) to find the area of the triangle using the below\n",
    "formula."
   ]
  },
  {
   "cell_type": "markdown",
   "metadata": {},
   "source": [
    "area = (s*(s-a)*(s-b)*(s-c)) * * 0.5"
   ]
  },
  {
   "cell_type": "markdown",
   "metadata": {},
   "source": [
    "Function to take the length of the sides of triangle from user should be defined in the parent\n",
    "class and function to calculate the area should be defined in subclass."
   ]
  },
  {
   "cell_type": "code",
   "execution_count": 1,
   "metadata": {},
   "outputs": [
    {
     "name": "stdout",
     "output_type": "stream",
     "text": [
      "Enter the Length of A: 2\n",
      "Enter the Length of B: 3\n",
      "Enter the length of C: 4\n",
      "\n",
      "Perimeter of the Trainagle is: 4.500000 \n",
      "None\n",
      "Area of the Triangle is:  2.9047375096555625\n"
     ]
    }
   ],
   "source": [
    "#Solution of 1.1\n",
    "class Lenght: #create a parent-class with name Length\n",
    "    def __init__(self): \n",
    "        self.a = float(input(\"Enter the Length of A: \"))\n",
    "        self.b = float(input(\"Enter the Length of B: \"))\n",
    "        self.c = float(input(\"Enter the length of C: \"))\n",
    "        \n",
    "    def Sides(self): #checking for the condition whether the sum of two sides are greater than the 3rd one.\n",
    "        if(self.a+self.b>self.c) and (self.b+self.c>self.a) and (self.c+self.a>self.b):\n",
    "            s = (self.a+self.b+self.c)/2 \n",
    "            print(\"Perimeter of the Trainagle is: %f \"%s)\n",
    "        else:\n",
    "            print(\"Invalid proportion of Triangle. Please eneter a valid dimensions\")\n",
    "class Area(Lenght): #Sub-class with name Area and calling the parent class Length\n",
    "    def __init__(self,*args):\n",
    "        super(Area,self).__init__(*args)\n",
    "    def get_area(self): #defining the function get_area which returns the area of a triangle.\n",
    "        s = (self.a+self.b+self.c)/2 #perimeter of a triangle\n",
    "        area = (s*(s-self.a)*(s-self.b)*(s-self.c))**0.5 #area of a triangle\n",
    "        return area\n",
    "Tri = Area()\n",
    "print(\"\")\n",
    "print(Tri.Sides()) #printing the output of Sides function\n",
    "print(\"Area of the Triangle is: \",Tri.get_area()) #Printing the output of get_area function"
   ]
  },
  {
   "cell_type": "markdown",
   "metadata": {},
   "source": [
    "1.2 Write a function filter_long_words() that takes a list of words and an integer n and returns\n",
    "the list of words that are longer than n."
   ]
  },
  {
   "cell_type": "code",
   "execution_count": 3,
   "metadata": {},
   "outputs": [
    {
     "name": "stdout",
     "output_type": "stream",
     "text": [
      "Enter the words: Berlin, Bengaluru, Landon, New york\n",
      "Enter the length of the word you want to filter: 6\n",
      "['Berlin', ' Bengaluru', ' Landon', ' New york']\n",
      "\n",
      "Output:\n",
      "List of words whose length greater than 6 is: \n"
     ]
    },
    {
     "data": {
      "text/plain": [
       "['Bengaluru', 'New york']"
      ]
     },
     "execution_count": 3,
     "metadata": {},
     "output_type": "execute_result"
    }
   ],
   "source": [
    "#Solution of 1.2\n",
    "def filter_long_words(word_list,n): #defining the funtion filter_long_word() with two arguments (list and n).\n",
    "    #list comprehension \n",
    "    word_list = [x.strip() for x in word_list if len(x.strip())>n]\n",
    "    \n",
    "    if(len(word_list)>0):\n",
    "        print(\"\")\n",
    "        print(\"Output:\")\n",
    "        print(\"List of words whose length greater than {} is: \".format(n))\n",
    "        return word_list\n",
    "    else:\n",
    "        return \"There is NO word of length greater than {}.\".format(n)\n",
    "        \n",
    "#Input:\n",
    "words = input(\"Enter the words: \")\n",
    "lis = list(words.split(\",\")) #Creating a list of words.\n",
    "number = int(input(\"Enter the length of the word you want to filter: \"))\n",
    "print(lis)\n",
    "#finction declaration\n",
    "filter_long_words(lis, number)"
   ]
  },
  {
   "cell_type": "markdown",
   "metadata": {},
   "source": [
    "2.1 Write a Python program using function concept that maps list of words into a list of integers\n",
    "representing the lengths of the corresponding words."
   ]
  },
  {
   "cell_type": "markdown",
   "metadata": {},
   "source": [
    "Hint: If a list [ ab,cde,erty] is passed on to the python function output should come as [2,3,4]\n",
    "Here 2,3 and 4 are the lengths of the words in the list."
   ]
  },
  {
   "cell_type": "code",
   "execution_count": 4,
   "metadata": {},
   "outputs": [
    {
     "name": "stdout",
     "output_type": "stream",
     "text": [
      "Enter the words: ab, cde, erty\n",
      "Output\n",
      "Length of the corresponding words are: [2, 3, 4]\n"
     ]
    }
   ],
   "source": [
    "#Solution_2.1\n",
    "def map_integer(list_of_words): \n",
    "    number_list = list(map(len,list_of_words)) #list comprehension to find the len of a words.\n",
    "    print(\"Output\")\n",
    "    return \"Length of the corresponding words are: \"+str(number_list)\n",
    "\n",
    "#input:\n",
    "write = list(input(\"Enter the words: \").split(\",\")) \n",
    "write_list = [x.strip() for x in write] \n",
    "\n",
    "#function decleration \n",
    "print(map_integer(write_list))"
   ]
  },
  {
   "cell_type": "markdown",
   "metadata": {},
   "source": [
    "2.2 Write a Python function which takes a character (i.e. a string of length 1) and returns True if\n",
    "it is a vowel, False otherwise."
   ]
  },
  {
   "cell_type": "code",
   "execution_count": 5,
   "metadata": {},
   "outputs": [
    {
     "name": "stdout",
     "output_type": "stream",
     "text": [
      "Please enter the character: A\n",
      "Output:  True\n"
     ]
    }
   ],
   "source": [
    "#Solution of 2.2\n",
    "def ovel_function(char):\n",
    "    ovel = ['a','e','i','o','u'] #list of ovels\n",
    "    if (len(char)==1): #condition statement to check whether the length of a character is only 1.\n",
    "        if char.lower() in ovel: #condition statement if the input character is in the list of ovel.\n",
    "            return True\n",
    "        else:\n",
    "            return False\n",
    "#input\n",
    "character =  input(\"Please enter the character: \")\n",
    "#output\n",
    "print(\"Output: \",ovel_function(character))"
   ]
  },
  {
   "cell_type": "code",
   "execution_count": 7,
   "metadata": {},
   "outputs": [
    {
     "name": "stdout",
     "output_type": "stream",
     "text": [
      "Please enter the character: H\n",
      "Output:  False\n"
     ]
    }
   ],
   "source": [
    "#Input \n",
    "letter = input(\"Please enter the character: \")\n",
    "#function decleration\n",
    "print(\"Output: \",ovel_function(letter))"
   ]
  },
  {
   "cell_type": "code",
   "execution_count": null,
   "metadata": {},
   "outputs": [],
   "source": []
  }
 ],
 "metadata": {
  "kernelspec": {
   "display_name": "Python 3",
   "language": "python",
   "name": "python3"
  },
  "language_info": {
   "codemirror_mode": {
    "name": "ipython",
    "version": 3
   },
   "file_extension": ".py",
   "mimetype": "text/x-python",
   "name": "python",
   "nbconvert_exporter": "python",
   "pygments_lexer": "ipython3",
   "version": "3.8.3"
  }
 },
 "nbformat": 4,
 "nbformat_minor": 4
}
